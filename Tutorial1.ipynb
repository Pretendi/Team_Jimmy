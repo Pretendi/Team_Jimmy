{
 "cells": [
  {
   "cell_type": "code",
   "execution_count": 1,
   "metadata": {
    "collapsed": false,
    "deletable": true,
    "editable": true,
    "scrolled": true
   },
   "outputs": [
    {
     "name": "stdout",
     "output_type": "stream",
     "text": [
      "Extracting MNIST_data/train-images-idx3-ubyte.gz\n",
      "Extracting MNIST_data/train-labels-idx1-ubyte.gz\n",
      "Extracting MNIST_data/t10k-images-idx3-ubyte.gz\n",
      "Extracting MNIST_data/t10k-labels-idx1-ubyte.gz\n",
      "0.9195\n"
     ]
    }
   ],
   "source": [
    "#this annotated tutorial is a walkthrough of the official google tutorial \n",
    "#from https://www.tensorflow.org/tutorials/mnist/beginners/\n",
    "\n",
    "import tensorflow as tf\n",
    "from tensorflow.examples.tutorials.mnist import input_data\n",
    "mnist = input_data.read_data_sets(\"MNIST_data/\", one_hot=True)\n",
    "\n",
    "x = tf.placeholder(tf.float32, [None, 784])\n",
    "#there are 784 pixels in any image, note that the matrix has been flattened.\n",
    "#'None' simply means that the number of rows in this 2d array can be anything\n",
    "\n",
    "W = tf.Variable(tf.zeros([784, 10]))\n",
    "#For each of the ten digits, W contains the weights that we expect for each pixel\n",
    "b = tf.Variable(tf.zeros([10]))\n",
    "#The bias term required to build the softmax model\n",
    "y = tf.nn.softmax(tf.matmul(x, W) + b)\n",
    "#this is a [None,10] matrix, which gives the likelihood for every digit produced by our model\n",
    "\n",
    "y_ = tf.placeholder(tf.float32, [None, 10])\n",
    "#this is the actual digit shown, used for training\n",
    "cross_entropy = tf.reduce_mean(-tf.reduce_sum(y_ * tf.log(y), reduction_indices=[1]))\n",
    "#calculating the cross-entropy of the model. The reduce_mean and reduce_sum functions do NOT perform \n",
    "#optimizations, but rather they simply reduce the dimensionality of the input according to certain rules.\n",
    "#More about these functions can be read here: \n",
    "#https://www.tensorflow.org/api_docs/python/math_ops/reduction#reduce_sum\n",
    "\n",
    "train_step = tf.train.GradientDescentOptimizer(0.5).minimize(cross_entropy)\n",
    "#The actual training is defined here. The algorithm being used is gradient descent, although this may be changed \n",
    "#depending on user preference/the task at hand. \n",
    "\n",
    "init = tf.global_variables_initializer()\n",
    "sess = tf.Session()\n",
    "sess.run(init)\n",
    "#this section initializes the environment, and is required to run the previously defined operations\n",
    "\n",
    "\n",
    "for i in range(1000):\n",
    "  batch_xs, batch_ys = mnist.train.next_batch(100)\n",
    "  sess.run(train_step, feed_dict={x: batch_xs, y_: batch_ys})\n",
    "#Here we're running the training over 1000 iterations\n",
    "\n",
    "correct_prediction = tf.equal(tf.argmax(y,1), tf.argmax(y_,1))\n",
    "accuracy = tf.reduce_mean(tf.cast(correct_prediction, tf.float32))\n",
    "print(sess.run(accuracy, feed_dict={x: mnist.test.images, y_: mnist.test.labels}))\n",
    "#these last few lines are simply to test the accuracy of our model"
   ]
  },
  {
   "cell_type": "code",
   "execution_count": null,
   "metadata": {
    "collapsed": true
   },
   "outputs": [],
   "source": []
  }
 ],
 "metadata": {
  "anaconda-cloud": {},
  "kernelspec": {
   "display_name": "Python 2",
   "language": "python",
   "name": "python2"
  },
  "language_info": {
   "codemirror_mode": {
    "name": "ipython",
    "version": 2
   },
   "file_extension": ".py",
   "mimetype": "text/x-python",
   "name": "python",
   "nbconvert_exporter": "python",
   "pygments_lexer": "ipython2",
   "version": "2.7.13"
  }
 },
 "nbformat": 4,
 "nbformat_minor": 2
}
